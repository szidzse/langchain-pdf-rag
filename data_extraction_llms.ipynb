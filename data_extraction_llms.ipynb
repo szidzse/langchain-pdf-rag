{
 "cells": [
  {
   "cell_type": "code",
   "execution_count": 1,
   "id": "44e518c0",
   "metadata": {},
   "outputs": [
    {
     "name": "stdout",
     "output_type": "stream",
     "text": [
      "\n",
      "\u001b[1m[\u001b[0m\u001b[34;49mnotice\u001b[0m\u001b[1;39;49m]\u001b[0m\u001b[39;49m A new release of pip is available: \u001b[0m\u001b[31;49m24.3.1\u001b[0m\u001b[39;49m -> \u001b[0m\u001b[32;49m25.2\u001b[0m\n",
      "\u001b[1m[\u001b[0m\u001b[34;49mnotice\u001b[0m\u001b[1;39;49m]\u001b[0m\u001b[39;49m To update, run: \u001b[0m\u001b[32;49mpip install --upgrade pip\u001b[0m\n",
      "\n",
      "\u001b[1m[\u001b[0m\u001b[34;49mnotice\u001b[0m\u001b[1;39;49m]\u001b[0m\u001b[39;49m A new release of pip is available: \u001b[0m\u001b[31;49m24.3.1\u001b[0m\u001b[39;49m -> \u001b[0m\u001b[32;49m25.2\u001b[0m\n",
      "\u001b[1m[\u001b[0m\u001b[34;49mnotice\u001b[0m\u001b[1;39;49m]\u001b[0m\u001b[39;49m To update, run: \u001b[0m\u001b[32;49mpip install --upgrade pip\u001b[0m\n"
     ]
    }
   ],
   "source": [
    "!pip3 install --upgrade --quiet langchain langchain-community langchain-openai chromadb \n",
    "!pip3 install --upgrade --quiet pypdf pandas streamlit python-dotenv"
   ]
  },
  {
   "cell_type": "code",
   "execution_count": 2,
   "id": "3c42d0e3",
   "metadata": {},
   "outputs": [
    {
     "name": "stderr",
     "output_type": "stream",
     "text": [
      "/home/szidzse/development/petprojects/rag_llms/myenv/lib64/python3.13/site-packages/IPython/core/interactiveshell.py:3699: LangChainDeprecationWarning: As of langchain-core 0.3.0, LangChain uses pydantic v2 internally. The langchain_core.pydantic_v1 module was a compatibility shim for pydantic v1, and should no longer be used. Please update the code to import from Pydantic directly.\n",
      "\n",
      "For example, replace imports like: `from langchain_core.pydantic_v1 import BaseModel`\n",
      "with: `from pydantic import BaseModel`\n",
      "or the v1 compatibility namespace if you are working in a code base that has not been fully upgraded to pydantic 2 yet. \tfrom pydantic.v1 import BaseModel\n",
      "\n",
      "  exec(code_obj, self.user_global_ns, self.user_ns)\n"
     ]
    }
   ],
   "source": [
    "# Import Langchain modules\n",
    "from langchain.document_loaders import PyPDFLoader\n",
    "from langchain.text_splitter import RecursiveCharacterTextSplitter\n",
    "from langchain_openai import OpenAIEmbeddings, ChatOpenAI\n",
    "from langchain.vectorstores import Chroma\n",
    "from langchain_core.runnables import RunnablePassthrough\n",
    "from langchain_core.prompts import ChatPromptTemplate\n",
    "from langchain_core.pydantic_v1 import BaseModel, Field\n",
    "\n",
    "# Other modules and packages\n",
    "import os\n",
    "import tempfile\n",
    "import streamlit as st  \n",
    "import pandas as pd\n",
    "from dotenv import load_dotenv\n"
   ]
  },
  {
   "cell_type": "code",
   "execution_count": 3,
   "id": "3f1e254a",
   "metadata": {},
   "outputs": [
    {
     "data": {
      "text/plain": [
       "True"
      ]
     },
     "execution_count": 3,
     "metadata": {},
     "output_type": "execute_result"
    }
   ],
   "source": [
    "load_dotenv()"
   ]
  },
  {
   "cell_type": "code",
   "execution_count": 4,
   "id": "d68cb5b5",
   "metadata": {},
   "outputs": [],
   "source": [
    "OPENAI_API_KEY = os.environ.get(\"OPENAI_API_KEY\")"
   ]
  },
  {
   "cell_type": "markdown",
   "id": "313801d7",
   "metadata": {},
   "source": [
    "## Define our LLM"
   ]
  },
  {
   "cell_type": "code",
   "execution_count": 5,
   "id": "2d689be5",
   "metadata": {},
   "outputs": [
    {
     "data": {
      "text/plain": [
       "AIMessage(content='Why did the dog sit in the shade? \\n\\nBecause he didn’t want to become a hot dog!', additional_kwargs={'refusal': None}, response_metadata={'token_usage': {'completion_tokens': 21, 'prompt_tokens': 13, 'total_tokens': 34, 'completion_tokens_details': {'accepted_prediction_tokens': 0, 'audio_tokens': 0, 'reasoning_tokens': 0, 'rejected_prediction_tokens': 0}, 'prompt_tokens_details': {'audio_tokens': 0, 'cached_tokens': 0}}, 'model_name': 'gpt-4o-mini-2024-07-18', 'system_fingerprint': 'fp_560af6e559', 'id': 'chatcmpl-CIHtiP2DOimLXVEhsSF17oKdmghVH', 'service_tier': 'default', 'finish_reason': 'stop', 'logprobs': None}, id='run--b3a7d014-bc61-49df-bb69-9ef940be69c7-0', usage_metadata={'input_tokens': 13, 'output_tokens': 21, 'total_tokens': 34, 'input_token_details': {'audio': 0, 'cache_read': 0}, 'output_token_details': {'audio': 0, 'reasoning': 0}})"
      ]
     },
     "execution_count": 5,
     "metadata": {},
     "output_type": "execute_result"
    }
   ],
   "source": [
    "llm = ChatOpenAI(model=\"gpt-4o-mini\", api_key=OPENAI_API_KEY)\n",
    "llm.invoke(\"Tell me a joke about dogs\")"
   ]
  },
  {
   "cell_type": "markdown",
   "id": "bafc82ca",
   "metadata": {},
   "source": [
    "## Process PDF document"
   ]
  },
  {
   "cell_type": "markdown",
   "id": "c73cf746",
   "metadata": {},
   "source": [
    "### Load PDF document"
   ]
  },
  {
   "cell_type": "code",
   "execution_count": 6,
   "id": "fedf5cbc",
   "metadata": {},
   "outputs": [
    {
     "name": "stderr",
     "output_type": "stream",
     "text": [
      "Ignoring wrong pointing object 18 0 (offset 0)\n"
     ]
    },
    {
     "data": {
      "text/plain": [
       "[Document(metadata={'producer': 'macOS Version 14.4.1 (Build 23E224) Quartz PDFContext, AppendMode 1.1', 'creator': 'Preview', 'creationdate': \"D:20240909152042Z00'00'\", 'author': 'Thu Vu', 'moddate': \"D:20240910141854Z00'00'\", 'title': 'Oppenheimer-2006-Applied_Cognitive_Psychology', 'source': 'data/Oppenheimer-2006-Applied_Cognitive_Psychology.pdf', 'total_pages': 3, 'page': 0, 'page_label': '1'}, page_content='APPLIED COGNITIVE PSYCHOLOGY\\nAppl. Cognit. Psychol. 20: 139–156 (2006)\\nPublished online 31 October 2005 in Wiley InterScience\\n(www.interscience.wiley.com) DOI: 10.1002/acp.1178\\nConsequences of Erudite Vernacular Utilized Irrespective\\nof Necessity: Problems with Using Long Words Needlessly\\nDANIEL M. OPPENHEIMER*\\nPrinceton University, USA\\nSUMMARY\\nMost texts on writing style encourage authors to avoid overly-complex words. However, a majority\\nof undergraduates admit to deliberately increasing the complexity of their vocabulary so as to give\\nthe impression of intelligence. This paper explores the extent to which this strategy is effective.\\nExperiments 1–3 manipulate complexity of texts and ﬁnd a negative relationship between complex-\\nity and judged intelligence. This relationship held regardless of the quality of the original essay, and\\nirrespective of the participants’ prior expectations of essay quality. The negative impact of\\ncomplexity was mediated by processing ﬂuency. Experiment 4 directly manipulated ﬂuency and\\nfound that texts in hard to read fonts are judged to come from less intelligent authors. Experiment 5\\ninvestigated discounting of ﬂuency. When obvious causes for low ﬂuency exist that are not relevant\\nto the judgement at hand, people reduce their reliance on ﬂuency as a cue; in fact, in an effort not to\\nbe inﬂuenced by the irrelevant source of ﬂuency, they over-compensate and are biased in the opposite\\ndirection. Implications and applications are discussed. Copyright # 2005 John Wiley & Sons, Ltd.\\nWhen it comes to writing, most experts agree that clarity, simplicity and parsimony are\\nideals that authors should strive for. In their classic manual of style, Strunk and White\\n(1979) encourage authors to ‘omit needless words.’ Daryl Bem’s (1995) guidelines for\\nsubmission to Psychological Bulletin advise, ‘the ﬁrst step towards clarity is writing\\nsimply.’ Even the APA publication manual (1996) recommends, ‘direct, declarative\\nsentences with simple common words are usually best.’\\nHowever, most of us can likely recall having read papers, either by colleagues or\\nstudents, in which the author appears to be deliberately using overly complex words.\\nExperience suggests that the experts’ advice contrasts with prevailing wisdom on how to\\nsound more intelligent as a writer. In fact, when 110 Stanford undergraduates were polled\\nabout their writing habits, most of them admitted that they had made their writing more\\ncomplex in order to appear smarter. For example, when asked, ‘Have you ever changed the\\nwords in an academic essay to make the essay sound more valid or intelligent by using\\ncomplicated language?’ 86.4% of the sample admitted to having done so. Nearly two-\\nthirds answered yes to the question, ‘When you write an essay, do you turn to the thesaurus\\nto choose words that are more complex to give the impression that the content is more\\nvalid or intelligent?’\\nCopyright # 2005 John Wiley & Sons, Ltd.\\n*Correspondence to: D. M. Oppenheimer, Department of Psychology, Princeton University, Green Hall Room\\n2-S-8, Princeton, NJ 08540, USA. E-mail: doppenhe@princeton.edu'),\n",
       " Document(metadata={'producer': 'macOS Version 14.4.1 (Build 23E224) Quartz PDFContext, AppendMode 1.1', 'creator': 'Preview', 'creationdate': \"D:20240909152042Z00'00'\", 'author': 'Thu Vu', 'moddate': \"D:20240910141854Z00'00'\", 'title': 'Oppenheimer-2006-Applied_Cognitive_Psychology', 'source': 'data/Oppenheimer-2006-Applied_Cognitive_Psychology.pdf', 'total_pages': 3, 'page': 1, 'page_label': '2'}, page_content='There are many plausible reasons that the use of million-dollar words would lead\\nreaders to believe that an author is smart. Intelligence and large vocabularies are positively\\ncorrelated (Spearman, 1904). Therefore, by displaying a large vocabulary, one may be\\nproviding cues that he or she is intelligent as well. Secondly, writers are assumed to be\\nconforming to the Gricean maxim of manner, ‘avoid obscurity of expression’ (Grice,\\n1975). If authors are believed to be writing as simply as possible, but a text is nonetheless\\ncomplex, a reader might believe that the ideas expressed in that text are also complex,\\ndefying all attempts to simplify the language. Further, individuals forced to struggle\\nthrough a complex text might experience dissonance if they believe that the ideas being\\nconveyed are simple (Festinger, 1957). Thus, individuals might be motivated to perceive a\\ndifﬁcult text as being more worthwhile, thereby justifying the effort of processing.\\nIndeed, there is some evidence that complex vocabulary can be indicative of a more\\nintelligent author. For example, Penneba ker and King (1999) have shown that the\\npercentage of long words used in class as signments positively correlates with SAT\\nscores and exam grades on both multiple cho ice and essay tests. However it is difﬁcult\\nto draw conclusions about the effectiveness of a strategy of complexity from this data.\\nThe study did not look at how readers of the texts containing the long words perceived\\nthe authors’ intelligence. Thus, it is possi ble that although students using complex\\nvocabularies are objectively very knowledgeable, they might nonetheless be perceived\\nas being less so.\\nWhy might we believe that the experts might be correct in recommending simplicity in\\nwriting? One theory that predicts the effectiveness of straightforward writing is that of\\nprocessing ﬂuency. Simpler writing is easier to process, and studies have demonstrated\\nthat processing ﬂuency is associated with a variety of positive dimensions. Fluency leads\\nto higher judgements of truth (Reber & Schwarz, 1999), conﬁdence (Norwick & Epley,\\n2002), frequency (Tversky & Kahneman, 1973), fame (Jacoby, Kelley, Brown, &\\nJasechko, 1989), and even liking (Reber, Winkielman, & Schwarz, 1998). Furthermore,\\nthe effects of ﬂuency are strongest when the ﬂuency is discrepant—when the amount of\\nexperienced ﬂuency is surprising (Whittlesea & Williams, 2001a, 2001b). As such, it\\nwould not be surprising if the lower ﬂuency of overly complex texts caused readers to have\\nnegative evaluations of those texts and the associated authors, especially if the complexity\\nwas unnecessary and thus surprising readers with the relative disﬂuency of the text.\\nBoth the experts and prevailing wisdom present plausible views, but which (if either) is\\ncorrect? The present paper provides an empirical investigation of the strategy of complex-\\nity, and ﬁnds such a strategy to be unsuccessful. Five studies demonstrate that the loss of\\nﬂuency due to needless complexity in a text negatively impacts raters’ assessments of the\\ntext’s authors.\\nEXPERIMENT 1\\nExperiment 1 aimed to answer several simple questions. First, does increasing the\\ncomplexity of text succeed in making the author appear more intelligent? Second, to\\nwhat extent does the success of this strategy depend on the quality of the original, simpler\\nwriting? Finally, if the strategy is unsuccessful, is the failure of the strategy due to loss of\\nﬂuency? To answer these questions, graduate school admission essays were made more\\ncomplex by substituting some of the original words with their longest applicable thesaurus\\nentries.\\n140 D. M. Oppenheimer\\nCopyright # 2005 John Wiley & Sons, Ltd. Appl. Cognit. Psychol. 20: 139–156 (2006)'),\n",
       " Document(metadata={'producer': 'macOS Version 14.4.1 (Build 23E224) Quartz PDFContext, AppendMode 1.1', 'creator': 'Preview', 'creationdate': \"D:20240909152042Z00'00'\", 'author': 'Thu Vu', 'moddate': \"D:20240910141854Z00'00'\", 'title': 'Oppenheimer-2006-Applied_Cognitive_Psychology', 'source': 'data/Oppenheimer-2006-Applied_Cognitive_Psychology.pdf', 'total_pages': 3, 'page': 2, 'page_label': '3'}, page_content='While word length is not perfectly interchangeable with sentence complexity—for\\nexample, complexity can come from grammatical structure or infrequent words as\\nwell—it is a useful proxy. Using length as a manipulation of complexity allows for a\\nsimple, easily replicable word replacement algorithm. By keeping content constant and\\nvarying the complexity of vocabulary, it was possible to investigate the effectiveness of\\ncomplexity.\\nParticipants and procedure\\nSeventy-one Stanford University undergraduates participated to fulﬁl part of a course\\nrequirement. The survey was included in a packet of unrelated one-page questionnaires.\\nPackets were distributed in class, and participants were given a week to complete the entire\\npacket.\\nStimuli and design\\nSix personal statements for admissions to graduate studies in English Literature were\\ndownloaded from writing improvement websites. The essays varied greatly both in content\\nand quality of writing. Logical excerpts ranging from 138 to 253 words in length were then\\ntaken from each essay. A ‘highly complex’ version of each excerpt was prepared by\\nreplacing every noun, verb and adjective with its longest entry in the Microsoft Word 2000\\nthesaurus. Words that were longer than any thesaurus entry, were not listed in the\\nthesaurus, or for which there was no entry with the same linguistic sense were not\\nreplaced. If two entries were of the same length, the replacement was chosen alphabe-\\ntically. When necessary, minor modiﬁcations were made to the essay to maintain the\\ngrammatical structure of a sentence (e.g. replacing ‘an’ with ‘a’ for replacement words\\nbeginning with consonants). A ‘moderately complex’ version of each excerpt was created\\nusing the same algorithm as above, except replacing only every third applicable word.\\nExamples of the stimuli can be found in the appendix.\\nEach participant received only one excerpt. Participants were informed that the excerpt\\ncame from a personal statement for graduate study in the Stanford English department.\\nThey were instructed to read the passage, decide whether or not to accept the applicant,\\nand rate their conﬁdence in their decision on a 7-point scale. 1 They were then asked how\\ndifﬁcult the passage was to understand, also on a seven-point scale.\\nResults\\nThe data of one participant was discarded due to an illegible answer. Analysis of the\\nmanipulation check showed that more complex texts were more difﬁcult to read. ( x ¼ 2.9,\\n4.0 and 4.3 for simple, moderately complex and highly complex, respectively). These\\ndifferences were reliable, F(2, 68) ¼ 4.46, p < 0.05, Cohen’s f ¼ 0.18. For other analyses,\\nacceptance ratings ( þ1 for accept, /C01 for reject) were multiplied by conﬁdence ratings to\\ncreate a /C07 to 7 scale of admission conﬁdence. Level of complexity had a reliable\\ninﬂuence on admission conﬁdence ratings, F(2, 70) ¼ 2.46, p < 0.05, Cohen’s f ¼ 0.12.\\n1With the exception of the dichotomous admissions decision, all dependent measures reported in this paper are\\nseven point scales ranging from 1 ¼ ‘not at all’ to 7¼ ‘very’.\\nProblems with long words 141\\nCopyright # 2005 John Wiley & Sons, Ltd. Appl. Cognit. Psychol. 20: 139–156 (2006)')]"
      ]
     },
     "execution_count": 6,
     "metadata": {},
     "output_type": "execute_result"
    }
   ],
   "source": [
    "loader = PyPDFLoader(\"data/Oppenheimer-2006-Applied_Cognitive_Psychology.pdf\")\n",
    "pages = loader.load()\n",
    "pages"
   ]
  },
  {
   "cell_type": "markdown",
   "id": "df0c0b24",
   "metadata": {},
   "source": [
    "### Split document"
   ]
  },
  {
   "cell_type": "code",
   "execution_count": 7,
   "id": "0b1a6fcf",
   "metadata": {},
   "outputs": [],
   "source": [
    "text_splitter = RecursiveCharacterTextSplitter(chunk_size=1500, chunk_overlap=200, length_function=len, separators=[\"\\n\\n\", \"\\n\", \" \"])\n",
    "\n",
    "chunks = text_splitter.split_documents(pages)"
   ]
  },
  {
   "cell_type": "markdown",
   "id": "f05f6973",
   "metadata": {},
   "source": [
    "### Create embeddings"
   ]
  },
  {
   "cell_type": "code",
   "execution_count": 8,
   "id": "e8880d53",
   "metadata": {},
   "outputs": [],
   "source": [
    "def get_embedding_function():\n",
    "    embeddings = OpenAIEmbeddings(\n",
    "        model=\"text-embedding-ada-002\", openai_api_key=OPENAI_API_KEY\n",
    "    )\n",
    "    return embeddings\n",
    "\n",
    "embedding_function = get_embedding_function()\n",
    "\n",
    "test_vector = embedding_function.embed_query(\"dog\")"
   ]
  },
  {
   "cell_type": "code",
   "execution_count": 9,
   "id": "c9ff2ca4",
   "metadata": {},
   "outputs": [
    {
     "data": {
      "text/plain": [
       "{'score': 0.17207426012393445}"
      ]
     },
     "execution_count": 9,
     "metadata": {},
     "output_type": "execute_result"
    }
   ],
   "source": [
    "from langchain.evaluation import load_evaluator\n",
    "\n",
    "evaluator = load_evaluator(evaluator=\"embedding_distance\", embeddings=embedding_function)\n",
    "\n",
    "evaluator.evaluate_strings(prediction=\"Budapest\", reference=\"goulash\")"
   ]
  },
  {
   "cell_type": "markdown",
   "id": "063db532",
   "metadata": {},
   "source": [
    "### Create vector database"
   ]
  },
  {
   "cell_type": "code",
   "execution_count": 10,
   "id": "bc8d4ee1",
   "metadata": {},
   "outputs": [],
   "source": [
    "import uuid\n",
    "\n",
    "def create_vectorstore(chunks, embedding_function, vectorstore_path):\n",
    "\n",
    "    # Create a list of unique ids for each document based on the content\n",
    "    ids = [str(uuid.uuid5(uuid.NAMESPACE_DNS, doc.page_content)) for doc in chunks]\n",
    "    \n",
    "    # Ensure that only unique docs with unique ids are kept\n",
    "    unique_ids = set()\n",
    "    unique_chunks = []\n",
    "    \n",
    "    unique_chunks = [] \n",
    "    for chunk, id in zip(chunks, ids):     \n",
    "        if id not in unique_ids:       \n",
    "            unique_ids.add(id)\n",
    "            unique_chunks.append(chunk) \n",
    "\n",
    "    # Create a new Chroma database from the documents\n",
    "    vectorstore = Chroma.from_documents(documents=unique_chunks, \n",
    "                                        ids=list(unique_ids),\n",
    "                                        embedding=embedding_function, \n",
    "                                        persist_directory = vectorstore_path)\n",
    "\n",
    "    vectorstore.persist()\n",
    "    \n",
    "    return vectorstore"
   ]
  },
  {
   "cell_type": "code",
   "execution_count": 11,
   "id": "3792d30b",
   "metadata": {},
   "outputs": [
    {
     "name": "stderr",
     "output_type": "stream",
     "text": [
      "/tmp/ipykernel_80197/2260934871.py:24: LangChainDeprecationWarning: Since Chroma 0.4.x the manual persistence method is no longer supported as docs are automatically persisted.\n",
      "  vectorstore.persist()\n"
     ]
    }
   ],
   "source": [
    "# Create vectorstore\n",
    "vectorstore = create_vectorstore(chunks=chunks, \n",
    "                                 embedding_function=embedding_function, \n",
    "                                 vectorstore_path=\"vectorstore_chroma\")"
   ]
  },
  {
   "cell_type": "markdown",
   "id": "400497a2",
   "metadata": {},
   "source": [
    "## Query relevant data"
   ]
  },
  {
   "cell_type": "code",
   "execution_count": 12,
   "id": "617862e4",
   "metadata": {},
   "outputs": [
    {
     "name": "stderr",
     "output_type": "stream",
     "text": [
      "/tmp/ipykernel_80197/2183088283.py:2: LangChainDeprecationWarning: The class `Chroma` was deprecated in LangChain 0.2.9 and will be removed in 1.0. An updated version of the class exists in the :class:`~langchain-chroma package and should be used instead. To use it run `pip install -U :class:`~langchain-chroma` and import as `from :class:`~langchain_chroma import Chroma``.\n",
      "  vectorstore = Chroma(persist_directory=\"vectorstore_chroma\", embedding_function=embedding_function)\n"
     ]
    }
   ],
   "source": [
    "# Load vectorstore\n",
    "vectorstore = Chroma(persist_directory=\"vectorstore_chroma\", embedding_function=embedding_function)"
   ]
  },
  {
   "cell_type": "code",
   "execution_count": 14,
   "id": "61c2048d",
   "metadata": {},
   "outputs": [
    {
     "data": {
      "text/plain": [
       "[Document(metadata={'title': 'Oppenheimer-2006-Applied_Cognitive_Psychology', 'source': 'data/Oppenheimer-2006-Applied_Cognitive_Psychology.pdf', 'page_label': '1', 'page': 0, 'total_pages': 3, 'creationdate': \"D:20240909152042Z00'00'\", 'author': 'Thu Vu', 'creator': 'Preview', 'producer': 'macOS Version 14.4.1 (Build 23E224) Quartz PDFContext, AppendMode 1.1', 'moddate': \"D:20240910141854Z00'00'\"}, page_content='be inﬂuenced by the irrelevant source of ﬂuency, they over-compensate and are biased in the opposite\\ndirection. Implications and applications are discussed. Copyright # 2005 John Wiley & Sons, Ltd.\\nWhen it comes to writing, most experts agree that clarity, simplicity and parsimony are\\nideals that authors should strive for. In their classic manual of style, Strunk and White\\n(1979) encourage authors to ‘omit needless words.’ Daryl Bem’s (1995) guidelines for\\nsubmission to Psychological Bulletin advise, ‘the ﬁrst step towards clarity is writing\\nsimply.’ Even the APA publication manual (1996) recommends, ‘direct, declarative\\nsentences with simple common words are usually best.’\\nHowever, most of us can likely recall having read papers, either by colleagues or\\nstudents, in which the author appears to be deliberately using overly complex words.\\nExperience suggests that the experts’ advice contrasts with prevailing wisdom on how to\\nsound more intelligent as a writer. In fact, when 110 Stanford undergraduates were polled\\nabout their writing habits, most of them admitted that they had made their writing more\\ncomplex in order to appear smarter. For example, when asked, ‘Have you ever changed the\\nwords in an academic essay to make the essay sound more valid or intelligent by using\\ncomplicated language?’ 86.4% of the sample admitted to having done so. Nearly two-\\nthirds answered yes to the question, ‘When you write an essay, do you turn to the thesaurus'),\n",
       " Document(metadata={'title': 'Oppenheimer-2006-Applied_Cognitive_Psychology', 'source': 'data/Oppenheimer-2006-Applied_Cognitive_Psychology.pdf', 'creator': 'Preview', 'page_label': '1', 'producer': 'macOS Version 14.4.1 (Build 23E224) Quartz PDFContext, AppendMode 1.1', 'total_pages': 3, 'author': 'Thu Vu', 'page': 0, 'moddate': \"D:20240910141854Z00'00'\", 'creationdate': \"D:20240909152042Z00'00'\"}, page_content='complicated language?’ 86.4% of the sample admitted to having done so. Nearly two-\\nthirds answered yes to the question, ‘When you write an essay, do you turn to the thesaurus\\nto choose words that are more complex to give the impression that the content is more\\nvalid or intelligent?’\\nCopyright # 2005 John Wiley & Sons, Ltd.\\n*Correspondence to: D. M. Oppenheimer, Department of Psychology, Princeton University, Green Hall Room\\n2-S-8, Princeton, NJ 08540, USA. E-mail: doppenhe@princeton.edu'),\n",
       " Document(metadata={'page_label': '2', 'producer': 'macOS Version 14.4.1 (Build 23E224) Quartz PDFContext, AppendMode 1.1', 'creationdate': \"D:20240909152042Z00'00'\", 'source': 'data/Oppenheimer-2006-Applied_Cognitive_Psychology.pdf', 'creator': 'Preview', 'page': 1, 'total_pages': 3, 'author': 'Thu Vu', 'moddate': \"D:20240910141854Z00'00'\", 'title': 'Oppenheimer-2006-Applied_Cognitive_Psychology'}, page_content='was unnecessary and thus surprising readers with the relative disﬂuency of the text.\\nBoth the experts and prevailing wisdom present plausible views, but which (if either) is\\ncorrect? The present paper provides an empirical investigation of the strategy of complex-\\nity, and ﬁnds such a strategy to be unsuccessful. Five studies demonstrate that the loss of\\nﬂuency due to needless complexity in a text negatively impacts raters’ assessments of the\\ntext’s authors.\\nEXPERIMENT 1\\nExperiment 1 aimed to answer several simple questions. First, does increasing the\\ncomplexity of text succeed in making the author appear more intelligent? Second, to\\nwhat extent does the success of this strategy depend on the quality of the original, simpler\\nwriting? Finally, if the strategy is unsuccessful, is the failure of the strategy due to loss of\\nﬂuency? To answer these questions, graduate school admission essays were made more\\ncomplex by substituting some of the original words with their longest applicable thesaurus\\nentries.\\n140 D. M. Oppenheimer\\nCopyright # 2005 John Wiley & Sons, Ltd. Appl. Cognit. Psychol. 20: 139–156 (2006)'),\n",
       " Document(metadata={'moddate': \"D:20240910141854Z00'00'\", 'title': 'Oppenheimer-2006-Applied_Cognitive_Psychology', 'total_pages': 3, 'creationdate': \"D:20240909152042Z00'00'\", 'page_label': '1', 'source': 'data/Oppenheimer-2006-Applied_Cognitive_Psychology.pdf', 'page': 0, 'producer': 'macOS Version 14.4.1 (Build 23E224) Quartz PDFContext, AppendMode 1.1', 'author': 'Thu Vu', 'creator': 'Preview'}, page_content='APPLIED COGNITIVE PSYCHOLOGY\\nAppl. Cognit. Psychol. 20: 139–156 (2006)\\nPublished online 31 October 2005 in Wiley InterScience\\n(www.interscience.wiley.com) DOI: 10.1002/acp.1178\\nConsequences of Erudite Vernacular Utilized Irrespective\\nof Necessity: Problems with Using Long Words Needlessly\\nDANIEL M. OPPENHEIMER*\\nPrinceton University, USA\\nSUMMARY\\nMost texts on writing style encourage authors to avoid overly-complex words. However, a majority\\nof undergraduates admit to deliberately increasing the complexity of their vocabulary so as to give\\nthe impression of intelligence. This paper explores the extent to which this strategy is effective.\\nExperiments 1–3 manipulate complexity of texts and ﬁnd a negative relationship between complex-\\nity and judged intelligence. This relationship held regardless of the quality of the original essay, and\\nirrespective of the participants’ prior expectations of essay quality. The negative impact of\\ncomplexity was mediated by processing ﬂuency. Experiment 4 directly manipulated ﬂuency and\\nfound that texts in hard to read fonts are judged to come from less intelligent authors. Experiment 5\\ninvestigated discounting of ﬂuency. When obvious causes for low ﬂuency exist that are not relevant\\nto the judgement at hand, people reduce their reliance on ﬂuency as a cue; in fact, in an effort not to\\nbe inﬂuenced by the irrelevant source of ﬂuency, they over-compensate and are biased in the opposite')]"
      ]
     },
     "execution_count": 14,
     "metadata": {},
     "output_type": "execute_result"
    }
   ],
   "source": [
    "# Create retriever and get relevant chunks\n",
    "retriever = vectorstore.as_retriever(search_type=\"similarity\")\n",
    "relevant_chunks = retriever.invoke(\"What is the title of the article?\")\n",
    "relevant_chunks"
   ]
  },
  {
   "cell_type": "code",
   "execution_count": 15,
   "id": "1bcbd8f0",
   "metadata": {},
   "outputs": [],
   "source": [
    "# Prompt template\n",
    "PROMPT_TEMPLATE = \"\"\"\n",
    "You are an assistant for question-answering tasks.\n",
    "Use the following pieces of retrieved context to answer\n",
    "the question. If you don't know the answer, say that you\n",
    "don't know. DON'T MAKE UP ANYTHING.\n",
    "\n",
    "{context}\n",
    "\n",
    "---\n",
    "\n",
    "Answer the question based on the above context: {question}\n",
    "\"\"\""
   ]
  },
  {
   "cell_type": "markdown",
   "id": "0ba5967e",
   "metadata": {},
   "source": [
    "## Generate responses"
   ]
  },
  {
   "cell_type": "code",
   "execution_count": 16,
   "id": "11c3be33",
   "metadata": {},
   "outputs": [
    {
     "name": "stdout",
     "output_type": "stream",
     "text": [
      "Human: \n",
      "You are an assistant for question-answering tasks.\n",
      "Use the following pieces of retrieved context to answer\n",
      "the question. If you don't know the answer, say that you\n",
      "don't know. DON'T MAKE UP ANYTHING.\n",
      "\n",
      "be inﬂuenced by the irrelevant source of ﬂuency, they over-compensate and are biased in the opposite\n",
      "direction. Implications and applications are discussed. Copyright # 2005 John Wiley & Sons, Ltd.\n",
      "When it comes to writing, most experts agree that clarity, simplicity and parsimony are\n",
      "ideals that authors should strive for. In their classic manual of style, Strunk and White\n",
      "(1979) encourage authors to ‘omit needless words.’ Daryl Bem’s (1995) guidelines for\n",
      "submission to Psychological Bulletin advise, ‘the ﬁrst step towards clarity is writing\n",
      "simply.’ Even the APA publication manual (1996) recommends, ‘direct, declarative\n",
      "sentences with simple common words are usually best.’\n",
      "However, most of us can likely recall having read papers, either by colleagues or\n",
      "students, in which the author appears to be deliberately using overly complex words.\n",
      "Experience suggests that the experts’ advice contrasts with prevailing wisdom on how to\n",
      "sound more intelligent as a writer. In fact, when 110 Stanford undergraduates were polled\n",
      "about their writing habits, most of them admitted that they had made their writing more\n",
      "complex in order to appear smarter. For example, when asked, ‘Have you ever changed the\n",
      "words in an academic essay to make the essay sound more valid or intelligent by using\n",
      "complicated language?’ 86.4% of the sample admitted to having done so. Nearly two-\n",
      "thirds answered yes to the question, ‘When you write an essay, do you turn to the thesaurus\n",
      "\n",
      "---\n",
      "\n",
      "complicated language?’ 86.4% of the sample admitted to having done so. Nearly two-\n",
      "thirds answered yes to the question, ‘When you write an essay, do you turn to the thesaurus\n",
      "to choose words that are more complex to give the impression that the content is more\n",
      "valid or intelligent?’\n",
      "Copyright # 2005 John Wiley & Sons, Ltd.\n",
      "*Correspondence to: D. M. Oppenheimer, Department of Psychology, Princeton University, Green Hall Room\n",
      "2-S-8, Princeton, NJ 08540, USA. E-mail: doppenhe@princeton.edu\n",
      "\n",
      "---\n",
      "\n",
      "was unnecessary and thus surprising readers with the relative disﬂuency of the text.\n",
      "Both the experts and prevailing wisdom present plausible views, but which (if either) is\n",
      "correct? The present paper provides an empirical investigation of the strategy of complex-\n",
      "ity, and ﬁnds such a strategy to be unsuccessful. Five studies demonstrate that the loss of\n",
      "ﬂuency due to needless complexity in a text negatively impacts raters’ assessments of the\n",
      "text’s authors.\n",
      "EXPERIMENT 1\n",
      "Experiment 1 aimed to answer several simple questions. First, does increasing the\n",
      "complexity of text succeed in making the author appear more intelligent? Second, to\n",
      "what extent does the success of this strategy depend on the quality of the original, simpler\n",
      "writing? Finally, if the strategy is unsuccessful, is the failure of the strategy due to loss of\n",
      "ﬂuency? To answer these questions, graduate school admission essays were made more\n",
      "complex by substituting some of the original words with their longest applicable thesaurus\n",
      "entries.\n",
      "140 D. M. Oppenheimer\n",
      "Copyright # 2005 John Wiley & Sons, Ltd. Appl. Cognit. Psychol. 20: 139–156 (2006)\n",
      "\n",
      "---\n",
      "\n",
      "APPLIED COGNITIVE PSYCHOLOGY\n",
      "Appl. Cognit. Psychol. 20: 139–156 (2006)\n",
      "Published online 31 October 2005 in Wiley InterScience\n",
      "(www.interscience.wiley.com) DOI: 10.1002/acp.1178\n",
      "Consequences of Erudite Vernacular Utilized Irrespective\n",
      "of Necessity: Problems with Using Long Words Needlessly\n",
      "DANIEL M. OPPENHEIMER*\n",
      "Princeton University, USA\n",
      "SUMMARY\n",
      "Most texts on writing style encourage authors to avoid overly-complex words. However, a majority\n",
      "of undergraduates admit to deliberately increasing the complexity of their vocabulary so as to give\n",
      "the impression of intelligence. This paper explores the extent to which this strategy is effective.\n",
      "Experiments 1–3 manipulate complexity of texts and ﬁnd a negative relationship between complex-\n",
      "ity and judged intelligence. This relationship held regardless of the quality of the original essay, and\n",
      "irrespective of the participants’ prior expectations of essay quality. The negative impact of\n",
      "complexity was mediated by processing ﬂuency. Experiment 4 directly manipulated ﬂuency and\n",
      "found that texts in hard to read fonts are judged to come from less intelligent authors. Experiment 5\n",
      "investigated discounting of ﬂuency. When obvious causes for low ﬂuency exist that are not relevant\n",
      "to the judgement at hand, people reduce their reliance on ﬂuency as a cue; in fact, in an effort not to\n",
      "be inﬂuenced by the irrelevant source of ﬂuency, they over-compensate and are biased in the opposite\n",
      "\n",
      "---\n",
      "\n",
      "Answer the question based on the above context: What is the title of the paper?\n",
      "\n"
     ]
    }
   ],
   "source": [
    "# Concatenate context text\n",
    "context_text = \"\\n\\n---\\n\\n\".join([doc.page_content for doc in relevant_chunks])\n",
    "\n",
    "# Create prompt\n",
    "prompt_template = ChatPromptTemplate.from_template(PROMPT_TEMPLATE)\n",
    "prompt = prompt_template.format(context=context_text, \n",
    "                                question=\"What is the title of the paper?\")\n",
    "print(prompt)"
   ]
  },
  {
   "cell_type": "code",
   "execution_count": 17,
   "id": "d28613b3",
   "metadata": {},
   "outputs": [
    {
     "data": {
      "text/plain": [
       "AIMessage(content='The title of the paper is \"Consequences of Erudite Vernacular Utilized Irrespective of Necessity: Problems with Using Long Words Needlessly.\"', additional_kwargs={'refusal': None}, response_metadata={'token_usage': {'completion_tokens': 32, 'prompt_tokens': 1117, 'total_tokens': 1149, 'completion_tokens_details': {'accepted_prediction_tokens': 0, 'audio_tokens': 0, 'reasoning_tokens': 0, 'rejected_prediction_tokens': 0}, 'prompt_tokens_details': {'audio_tokens': 0, 'cached_tokens': 0}}, 'model_name': 'gpt-4o-mini-2024-07-18', 'system_fingerprint': 'fp_51db84afab', 'id': 'chatcmpl-CIJCZSpwR5hxxUah8PPE9mozTujEY', 'service_tier': 'default', 'finish_reason': 'stop', 'logprobs': None}, id='run--5e3f0e8f-5a08-4292-ae26-e73c73adcb1e-0', usage_metadata={'input_tokens': 1117, 'output_tokens': 32, 'total_tokens': 1149, 'input_token_details': {'audio': 0, 'cache_read': 0}, 'output_token_details': {'audio': 0, 'reasoning': 0}})"
      ]
     },
     "execution_count": 17,
     "metadata": {},
     "output_type": "execute_result"
    }
   ],
   "source": [
    "llm.invoke(prompt)"
   ]
  },
  {
   "cell_type": "markdown",
   "id": "191e779b",
   "metadata": {},
   "source": [
    "### Using Langchain Expression Language"
   ]
  },
  {
   "cell_type": "code",
   "execution_count": 18,
   "id": "37f8eb46",
   "metadata": {},
   "outputs": [
    {
     "data": {
      "text/plain": [
       "AIMessage(content='The title of the paper is \"Consequences of Erudite Vernacular Utilized Irrespective of Necessity: Problems with Using Long Words Needlessly.\"', additional_kwargs={'refusal': None}, response_metadata={'token_usage': {'completion_tokens': 32, 'prompt_tokens': 1111, 'total_tokens': 1143, 'completion_tokens_details': {'accepted_prediction_tokens': 0, 'audio_tokens': 0, 'reasoning_tokens': 0, 'rejected_prediction_tokens': 0}, 'prompt_tokens_details': {'audio_tokens': 0, 'cached_tokens': 0}}, 'model_name': 'gpt-4o-mini-2024-07-18', 'system_fingerprint': 'fp_560af6e559', 'id': 'chatcmpl-CIJEqRVnHkjaZqn9ktDjsBUlErC7w', 'service_tier': 'default', 'finish_reason': 'stop', 'logprobs': None}, id='run--112c752c-e448-4c33-86ad-a907645b31b6-0', usage_metadata={'input_tokens': 1111, 'output_tokens': 32, 'total_tokens': 1143, 'input_token_details': {'audio': 0, 'cache_read': 0}, 'output_token_details': {'audio': 0, 'reasoning': 0}})"
      ]
     },
     "execution_count": 18,
     "metadata": {},
     "output_type": "execute_result"
    }
   ],
   "source": [
    "def format_docs(docs):\n",
    "    return \"\\n\\n\".join(doc.page_content for doc in docs)\n",
    "\n",
    "rag_chain = (\n",
    "            {\"context\": retriever | format_docs, \"question\": RunnablePassthrough()}\n",
    "            | prompt_template\n",
    "            | llm\n",
    "        )\n",
    "rag_chain.invoke(\"What's the title of this paper?\")"
   ]
  },
  {
   "cell_type": "markdown",
   "id": "7092ac54",
   "metadata": {},
   "source": [
    "### Generate structured responses"
   ]
  },
  {
   "cell_type": "code",
   "execution_count": 19,
   "id": "685d9a54",
   "metadata": {},
   "outputs": [],
   "source": [
    "class AnswerWithSources(BaseModel):\n",
    "    \"\"\"An answer to the question, with sources and reasoning.\"\"\"\n",
    "    answer: str = Field(description=\"Answer to question\")\n",
    "    sources: str = Field(description=\"Full direct text chunk from the context used to answer the question\")\n",
    "    reasoning: str = Field(description=\"Explain the reasoning of the answer based on the sources\")\n",
    "    \n",
    "class ExtractedInfo(BaseModel):\n",
    "    \"\"\"Extracted information about the research article\"\"\"\n",
    "    paper_title: AnswerWithSources\n",
    "    paper_summary: AnswerWithSources\n",
    "    publication_year: AnswerWithSources\n",
    "    paper_authors: AnswerWithSources"
   ]
  },
  {
   "cell_type": "code",
   "execution_count": 20,
   "id": "34bab820",
   "metadata": {},
   "outputs": [
    {
     "name": "stderr",
     "output_type": "stream",
     "text": [
      "/home/szidzse/development/petprojects/rag_llms/myenv/lib64/python3.13/site-packages/langchain_openai/chat_models/base.py:1915: UserWarning: Received a Pydantic BaseModel V1 schema. This is not supported by method=\"json_schema\". Please use method=\"function_calling\" or specify schema via JSON Schema or Pydantic V2 BaseModel. Overriding to method=\"function_calling\".\n",
      "  warnings.warn(\n"
     ]
    },
    {
     "data": {
      "text/plain": [
       "ExtractedInfo(paper_title=AnswerWithSources(answer='Consequences of Erudite Vernacular Utilized Irrespective of Necessity: Problems with Using Long Words Needlessly', sources='Copyright # 2005 John Wiley & Sons, Ltd. Consequences of Erudite Vernacular Utilized Irrespective of Necessity: Problems with Using Long Words Needlessly DANIEL M. OPPENHEIMER* Princeton University, USA', reasoning='The title is explicitly mentioned in the context, indicating that this is the title of the research paper.'), paper_summary=AnswerWithSources(answer='The paper explores how the use of overly complex vocabulary can negatively affect perceptions of intelligence. Despite writing style guides recommending simplicity, many undergraduates intentionally use complicated language to appear more intelligent. Experiments conducted show a negative relationship between text complexity and judged intelligence, mediated by processing fluency. Different experiments manipulate text complexity and fluency, revealing that texts in difficult fonts are perceived as authored by less intelligent individuals, and considerations of fluency can be biased by irrelevant factors.', sources='SUMMARY Most texts on writing style encourage authors to avoid overly-complex words. However, a majority of undergraduates admit to deliberately increasing the complexity of their vocabulary so as to give the impression of intelligence. This paper explores the extent to which this strategy is effective. Experiments 1–3 manipulate complexity of texts and find a negative relationship between complexity and judged intelligence. This relationship held regardless of the quality of the original essay, and irrespective of the participants’ prior expectations of essay quality. The negative impact of complexity was mediated by processing fluency. Experiment 4 directly manipulated fluency and found that texts in hard to read fonts are judged to come from less intelligent authors. Experiment 5 investigated discounting of fluency. When obvious causes for low fluency exist that are not relevant to the judgement at hand, people reduce their reliance on fluency as a cue; in fact, in an effort not to be influenced by the irrelevant source of fluency, they over-compensate and are biased in the opposite direction. Implications and applications are discussed.', reasoning='The summary provides an overview of the main points discussed in the paper, including its focus on writing style, experiments conducted, and findings related to complexity and perceived intelligence.'), publication_year=AnswerWithSources(answer='2005', sources='Appl. Cognit. Psychol. 20: 139–156 (2006) Published online 31 October 2005 in Wiley InterScience', reasoning='The publication date is derived from the context which states that it was published online on 31 October 2005.'), paper_authors=AnswerWithSources(answer='DANIEL M. OPPENHEIMER', sources='DANIEL M. OPPENHEIMER* Princeton University, USA', reasoning='The author is identified explicitly in the citation of the paper in the provided context.'))"
      ]
     },
     "execution_count": 20,
     "metadata": {},
     "output_type": "execute_result"
    }
   ],
   "source": [
    "rag_chain = (\n",
    "            {\"context\": retriever | format_docs, \"question\": RunnablePassthrough()}\n",
    "            | prompt_template\n",
    "            | llm.with_structured_output(ExtractedInfo, strict=True)\n",
    "        )\n",
    "\n",
    "rag_chain.invoke(\"Give me the title, summary, publication date, authors of the research paper.\")"
   ]
  },
  {
   "cell_type": "markdown",
   "id": "b52f504d",
   "metadata": {},
   "source": [
    "### Transform response into a dataframe"
   ]
  },
  {
   "cell_type": "code",
   "execution_count": 21,
   "id": "ae6e7230",
   "metadata": {},
   "outputs": [
    {
     "data": {
      "text/html": [
       "<div>\n",
       "<style scoped>\n",
       "    .dataframe tbody tr th:only-of-type {\n",
       "        vertical-align: middle;\n",
       "    }\n",
       "\n",
       "    .dataframe tbody tr th {\n",
       "        vertical-align: top;\n",
       "    }\n",
       "\n",
       "    .dataframe thead th {\n",
       "        text-align: right;\n",
       "    }\n",
       "</style>\n",
       "<table border=\"1\" class=\"dataframe\">\n",
       "  <thead>\n",
       "    <tr style=\"text-align: right;\">\n",
       "      <th></th>\n",
       "      <th>paper_title</th>\n",
       "      <th>paper_summary</th>\n",
       "      <th>publication_year</th>\n",
       "      <th>paper_authors</th>\n",
       "    </tr>\n",
       "  </thead>\n",
       "  <tbody>\n",
       "    <tr>\n",
       "      <th>answer</th>\n",
       "      <td>Consequences of Erudite Vernacular Utilized Ir...</td>\n",
       "      <td>The paper investigates the common tendency amo...</td>\n",
       "      <td>2005</td>\n",
       "      <td>Daniel M. Oppenheimer</td>\n",
       "    </tr>\n",
       "    <tr>\n",
       "      <th>source</th>\n",
       "      <td>Consequences of Erudite Vernacular Utilized Ir...</td>\n",
       "      <td>Most texts on writing style encourage authors ...</td>\n",
       "      <td>Published online 31 October 2005 in Wiley Inte...</td>\n",
       "      <td>DANIEL M. OPPENHEIMER* Princeton University, USA</td>\n",
       "    </tr>\n",
       "    <tr>\n",
       "      <th>reasoning</th>\n",
       "      <td>The title is explicitly mentioned in the context.</td>\n",
       "      <td>The summary encapsulates the core themes and f...</td>\n",
       "      <td>The publication date is clearly mentioned in t...</td>\n",
       "      <td>The author's name is provided in the context.</td>\n",
       "    </tr>\n",
       "  </tbody>\n",
       "</table>\n",
       "</div>"
      ],
      "text/plain": [
       "                                                 paper_title  \\\n",
       "answer     Consequences of Erudite Vernacular Utilized Ir...   \n",
       "source     Consequences of Erudite Vernacular Utilized Ir...   \n",
       "reasoning  The title is explicitly mentioned in the context.   \n",
       "\n",
       "                                               paper_summary  \\\n",
       "answer     The paper investigates the common tendency amo...   \n",
       "source     Most texts on writing style encourage authors ...   \n",
       "reasoning  The summary encapsulates the core themes and f...   \n",
       "\n",
       "                                            publication_year  \\\n",
       "answer                                                  2005   \n",
       "source     Published online 31 October 2005 in Wiley Inte...   \n",
       "reasoning  The publication date is clearly mentioned in t...   \n",
       "\n",
       "                                              paper_authors  \n",
       "answer                                Daniel M. Oppenheimer  \n",
       "source     DANIEL M. OPPENHEIMER* Princeton University, USA  \n",
       "reasoning     The author's name is provided in the context.  "
      ]
     },
     "execution_count": 21,
     "metadata": {},
     "output_type": "execute_result"
    }
   ],
   "source": [
    "structured_response = rag_chain.invoke(\"Give me the title, summary, publication date, authors of the research paper.\")\n",
    "df = pd.DataFrame([structured_response.dict()])\n",
    "\n",
    "# Transforming into a table with two rows: 'answer' and 'source'\n",
    "answer_row = []\n",
    "source_row = []\n",
    "reasoning_row = []\n",
    "\n",
    "for col in df.columns:\n",
    "    answer_row.append(df[col][0]['answer'])\n",
    "    source_row.append(df[col][0]['sources'])\n",
    "    reasoning_row.append(df[col][0]['reasoning'])\n",
    "\n",
    "# Create new dataframe with two rows: 'answer' and 'source'\n",
    "structured_response_df = pd.DataFrame([answer_row, source_row, reasoning_row], columns=df.columns, index=['answer', 'source', 'reasoning'])\n",
    "structured_response_df"
   ]
  }
 ],
 "metadata": {
  "kernelspec": {
   "display_name": "myenv",
   "language": "python",
   "name": "python3"
  },
  "language_info": {
   "codemirror_mode": {
    "name": "ipython",
    "version": 3
   },
   "file_extension": ".py",
   "mimetype": "text/x-python",
   "name": "python",
   "nbconvert_exporter": "python",
   "pygments_lexer": "ipython3",
   "version": "3.13.7"
  }
 },
 "nbformat": 4,
 "nbformat_minor": 5
}
